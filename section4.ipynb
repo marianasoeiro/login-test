{
  "nbformat": 4,
  "nbformat_minor": 0,
  "metadata": {
    "colab": {
      "name": "Untitled0.ipynb",
      "provenance": [],
      "authorship_tag": "ABX9TyN1r5H3n7wnl6zOs8DwAXGC",
      "include_colab_link": true
    },
    "kernelspec": {
      "name": "python3",
      "display_name": "Python 3"
    },
    "language_info": {
      "name": "python"
    }
  },
  "cells": [
    {
      "cell_type": "markdown",
      "metadata": {
        "id": "view-in-github",
        "colab_type": "text"
      },
      "source": [
        "<a href=\"https://colab.research.google.com/github/marianasoeiro/login-test/blob/test16-jun/section4.ipynb\" target=\"_parent\"><img src=\"https://colab.research.google.com/assets/colab-badge.svg\" alt=\"Open In Colab\"/></a>"
      ]
    },
    {
      "cell_type": "markdown",
      "source": [
        "Exercise 2\n"
      ],
      "metadata": {
        "id": "TNxSs7kaHsSi"
      }
    },
    {
      "cell_type": "code",
      "source": [
        "import pandas as pd\n",
        "\n",
        "stocks = ['PLW', 'CDR', '11B', 'TEN']\n",
        "\n",
        "serie = pd.Series(stocks)\n",
        "\n",
        "print (serie)"
      ],
      "metadata": {
        "colab": {
          "base_uri": "https://localhost:8080/"
        },
        "id": "LXM7s6ykHuLb",
        "outputId": "c6a5021c-4591-4e88-c5f5-4d96bfae56b4"
      },
      "execution_count": null,
      "outputs": [
        {
          "output_type": "stream",
          "name": "stdout",
          "text": [
            "0    PLW\n",
            "1    CDR\n",
            "2    11B\n",
            "3    TEN\n",
            "dtype: object\n"
          ]
        }
      ]
    },
    {
      "cell_type": "code",
      "source": [
        "import pandas as pd\n",
        "\n",
        "\n",
        "stocks = {'PLW': 387.00, 'CDR': 339.5, 'TEN': 349.5, '11B': 391.0}\n",
        "quotations = pd.Series(data=stocks)\n",
        "df = pd.DataFrame(data=quotations, columns=['price'])\n",
        "\n",
        "print(df)"
      ],
      "metadata": {
        "colab": {
          "base_uri": "https://localhost:8080/"
        },
        "id": "7ZL4s9CyQ9vd",
        "outputId": "ca39a82f-a82e-4c68-960a-1bd000759151"
      },
      "execution_count": null,
      "outputs": [
        {
          "output_type": "stream",
          "name": "stdout",
          "text": [
            "     price\n",
            "PLW  387.0\n",
            "CDR  339.5\n",
            "TEN  349.5\n",
            "11B  391.0\n"
          ]
        }
      ]
    },
    {
      "cell_type": "code",
      "source": [
        "#exercise 5 (section 4 - my awnser)\n",
        "import numpy as np\n",
        "import pandas as pd\n",
        "\n",
        "\n",
        "# simple array\n",
        "stocks = np.array([10.0, 20.0, 30.0, 40.0, 50.0, 60.0, 70.0, 80.0, 90.0])\n",
        "  \n",
        "# providing an index\n",
        "serie = pd.Series(stocks, index =['101', '102', '103', '104', '105','106', '107', '108', '109'])\n",
        "print(serie)"
      ],
      "metadata": {
        "colab": {
          "base_uri": "https://localhost:8080/"
        },
        "id": "A28CxD-h7uP-",
        "outputId": "94c1a88c-1c63-4877-b206-dba9c8e11a7e"
      },
      "execution_count": 6,
      "outputs": [
        {
          "output_type": "stream",
          "name": "stdout",
          "text": [
            "101    10.0\n",
            "102    20.0\n",
            "103    30.0\n",
            "104    40.0\n",
            "105    50.0\n",
            "106    60.0\n",
            "107    70.0\n",
            "108    80.0\n",
            "109    90.0\n",
            "dtype: float64\n"
          ]
        }
      ]
    },
    {
      "cell_type": "code",
      "source": [
        "# exercise 6 (section 4 - my awnser)\n",
        "\n",
        "\n",
        "import pandas as pd\n",
        "\n",
        "\n",
        "series = pd.Series(['001', '002', '003', '004'], list('abcd'))\n",
        "#mudanca pra inteiro\n",
        "series = series.astype(int)\n",
        "print(series)\n",
        "\n",
        "#forca bruta mas não muda pra inteiro\n",
        "#series.iloc[0] = 1\n",
        "#series.iloc[1] = 2\n",
        "#series.iloc[2] = 3\n",
        "#series.iloc[3] = 4\n",
        " \n"
      ],
      "metadata": {
        "colab": {
          "base_uri": "https://localhost:8080/"
        },
        "id": "3tAOrXsxHe9O",
        "outputId": "106377e2-183c-4104-ea19-2d3a481680f6"
      },
      "execution_count": 12,
      "outputs": [
        {
          "output_type": "stream",
          "name": "stdout",
          "text": [
            "a    001\n",
            "b    002\n",
            "c    003\n",
            "d    004\n",
            "dtype: object\n"
          ]
        }
      ]
    },
    {
      "cell_type": "code",
      "source": [
        "# exercise 7 (section 4 - my awnser)\n",
        "\n",
        "import pandas as pd\n",
        "\n",
        "\n",
        "stocks = {'PLW': 387.00, 'CDR': 339.5, 'TEN': 349.5, '11B': 391.0}\n",
        "#força bruta\n",
        "stocks['BBT'] = 25.5\n",
        "stocks['F51'] = 19.2\n",
        "\n",
        "#solucao dele \n",
        "#quotations = quotations.append(pd.Series({'BBT': 25.5, 'F51': 19.2}))\n",
        "\n",
        "quotations = pd.Series(data=stocks)\n",
        "\n",
        "print(quotations)"
      ],
      "metadata": {
        "colab": {
          "base_uri": "https://localhost:8080/"
        },
        "id": "2DeN2bItLeEH",
        "outputId": "bfaf531c-eb88-4e91-a3dc-d05aad5ecc89"
      },
      "execution_count": 14,
      "outputs": [
        {
          "output_type": "stream",
          "name": "stdout",
          "text": [
            "PLW    387.0\n",
            "CDR    339.5\n",
            "TEN    349.5\n",
            "11B    391.0\n",
            "BBT     25.5\n",
            "F51     19.2\n",
            "dtype: float64\n"
          ]
        }
      ]
    },
    {
      "cell_type": "code",
      "source": [
        "# exercise 8 (section 4 - my awnser - solution help)\n",
        "import pandas as pd\n",
        "stocks = {\n",
        "    'PLW': 387.00, \n",
        "    'CDR': 339.5, \n",
        "    'TEN': 349.5, \n",
        "    '11B': 391.0, \n",
        "    'BBT': 25.5, \n",
        "    'F51': 19.2\n",
        "}\n",
        "quotations = pd.Series(data=stocks)\n",
        "quotations = pd.DataFrame(quotations).reset_index()\n",
        "quotations.columns = ['ticker', 'price']\n",
        "print(quotations)"
      ],
      "metadata": {
        "colab": {
          "base_uri": "https://localhost:8080/"
        },
        "id": "kq-UOLYd4itg",
        "outputId": "3bf8a270-f2b6-4a09-c93d-82de45d87ec6"
      },
      "execution_count": 2,
      "outputs": [
        {
          "output_type": "stream",
          "name": "stdout",
          "text": [
            "  ticker  price\n",
            "0    PLW  387.0\n",
            "1    CDR  339.5\n",
            "2    TEN  349.5\n",
            "3    11B  391.0\n",
            "4    BBT   25.5\n",
            "5    F51   19.2\n"
          ]
        }
      ]
    },
    {
      "cell_type": "code",
      "source": [
        "# exercise 9 (section 4 - my awnser)\n",
        "import pandas as pd\n",
        "\n",
        "#stocks = pd.DataFrame({'Amazon': [2375.0, 'AMZN.US'], 'Microsoft': [178.6, 'MSFT.US'], 'Facebook': [179.2,'FB.US']})\n",
        "#quotations = pd.DataFrame(quotations).reset_index()\n",
        "#quotations.columns = ['company', 'price','ticker']\n",
        "#print(quotations)\n",
        "\n",
        "import pandas as pd\n",
        "\n",
        "companies = pd.DataFrame({\n",
        "  'company': ['Amazon', 'Microsoft', 'Facebook'],\n",
        "  'price': [2375.0, 178.6, 179.2],\n",
        "  'ticker': ['AMZN.US', 'MSFT.US', 'FB.US'],\n",
        "})\n",
        "\n",
        "print(companies)"
      ],
      "metadata": {
        "colab": {
          "base_uri": "https://localhost:8080/"
        },
        "id": "l0-gwxju6FRA",
        "outputId": "2ebe1d73-dbdb-4ac0-f665-6b2439ca9a81"
      },
      "execution_count": 24,
      "outputs": [
        {
          "output_type": "stream",
          "name": "stdout",
          "text": [
            "     company   price   ticker\n",
            "0     Amazon  2375.0  AMZN.US\n",
            "1  Microsoft   178.6  MSFT.US\n",
            "2   Facebook   179.2    FB.US\n"
          ]
        }
      ]
    },
    {
      "cell_type": "code",
      "source": [
        "# exercise 10 (section 4 - my awnser)\n",
        "\n",
        "import pandas as pd\n",
        "\n",
        "\n",
        "data_dict = {\n",
        "    'company': ['Amazon', 'Microsoft', 'Facebook'],\n",
        "    'price': [2375.00, 178.6, 179.2],\n",
        "    'ticker': ['AMZN.US', 'MSFT.US', 'FB.US']\n",
        "}\n",
        "\n",
        "companies = pd.DataFrame(data=data_dict)\n",
        "companies = companies.set_index('company')\n",
        "print(companies)"
      ],
      "metadata": {
        "colab": {
          "base_uri": "https://localhost:8080/"
        },
        "id": "t2iNTZ-d-WOA",
        "outputId": "635b2fce-17a4-473b-a28f-2e4ea5bcb1a5"
      },
      "execution_count": 26,
      "outputs": [
        {
          "output_type": "stream",
          "name": "stdout",
          "text": [
            "            price   ticker\n",
            "company                   \n",
            "Amazon     2375.0  AMZN.US\n",
            "Microsoft   178.6  MSFT.US\n",
            "Facebook    179.2    FB.US\n"
          ]
        }
      ]
    }
  ]
}