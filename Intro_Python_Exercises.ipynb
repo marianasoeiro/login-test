{
  "nbformat": 4,
  "nbformat_minor": 0,
  "metadata": {
    "colab": {
      "name": "Intro-Python-Exercises.ipynb",
      "provenance": [],
      "authorship_tag": "ABX9TyNlR1X7UyAUQJ1szaa9hJvH",
      "include_colab_link": true
    },
    "kernelspec": {
      "name": "python3",
      "display_name": "Python 3"
    },
    "language_info": {
      "name": "python"
    }
  },
  "cells": [
    {
      "cell_type": "markdown",
      "metadata": {
        "id": "view-in-github",
        "colab_type": "text"
      },
      "source": [
        "<a href=\"https://colab.research.google.com/github/marianasoeiro/login-test/blob/test16-jun/Intro_Python_Exercises.ipynb\" target=\"_parent\"><img src=\"https://colab.research.google.com/assets/colab-badge.svg\" alt=\"Open In Colab\"/></a>"
      ]
    },
    {
      "cell_type": "code",
      "execution_count": 2,
      "metadata": {
        "colab": {
          "base_uri": "https://localhost:8080/"
        },
        "id": "fKrZPKdOKvvs",
        "outputId": "8758886a-ff97-4b6e-fd39-1632d471c924"
      },
      "outputs": [
        {
          "output_type": "stream",
          "name": "stdout",
          "text": [
            "hello dear\n"
          ]
        }
      ],
      "source": [
        "print('hello dear')\n"
      ]
    },
    {
      "cell_type": "markdown",
      "source": [
        "#new line\n"
      ],
      "metadata": {
        "id": "jhwn7SrVUb8_"
      }
    }
  ]
}