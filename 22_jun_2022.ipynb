{
  "nbformat": 4,
  "nbformat_minor": 0,
  "metadata": {
    "colab": {
      "name": "Untitled2.ipynb",
      "provenance": [],
      "authorship_tag": "ABX9TyMYpNnCFurYJH4tdPJEHIDh",
      "include_colab_link": true
    },
    "kernelspec": {
      "name": "python3",
      "display_name": "Python 3"
    },
    "language_info": {
      "name": "python"
    }
  },
  "cells": [
    {
      "cell_type": "markdown",
      "metadata": {
        "id": "view-in-github",
        "colab_type": "text"
      },
      "source": [
        "<a href=\"https://colab.research.google.com/github/marianasoeiro/login-test/blob/test16-jun/22_jun_2022.ipynb\" target=\"_parent\"><img src=\"https://colab.research.google.com/assets/colab-badge.svg\" alt=\"Open In Colab\"/></a>"
      ]
    },
    {
      "cell_type": "code",
      "execution_count": null,
      "metadata": {
        "colab": {
          "base_uri": "https://localhost:8080/"
        },
        "id": "YNIbtXrHyftb",
        "outputId": "5d5f929c-0e13-46f3-c31d-d5ae3f8cdd2f"
      },
      "outputs": [
        {
          "output_type": "stream",
          "name": "stdout",
          "text": [
            "DatetimeIndex(['2020-01-01', '2020-01-02', '2020-01-03', '2020-01-04',\n",
            "               '2020-01-05', '2020-01-06', '2020-01-07', '2020-01-08',\n",
            "               '2020-01-09', '2020-01-10', '2020-01-11', '2020-01-12',\n",
            "               '2020-01-13', '2020-01-14', '2020-01-15', '2020-01-16',\n",
            "               '2020-01-17', '2020-01-18', '2020-01-19', '2020-01-20',\n",
            "               '2020-01-21', '2020-01-22', '2020-01-23', '2020-01-24',\n",
            "               '2020-01-25', '2020-01-26', '2020-01-27', '2020-01-28',\n",
            "               '2020-01-29', '2020-01-30', '2020-01-31'],\n",
            "              dtype='datetime64[ns]', freq='D')\n"
          ]
        }
      ],
      "source": [
        "# Section 5: exercise 1\n",
        "# DataframeIndex\n",
        "\n",
        "import pandas as pd\n",
        "date_range = pd.date_range(start='2020-01-01', periods=31)\n",
        "print(date_range)"
      ]
    },
    {
      "cell_type": "code",
      "source": [
        "# Section 5: exercise 2\n",
        "\n",
        "import pandas as pd \n",
        "\n",
        "date_range = pd.date_range(\n",
        "    start='2020-01-01', \n",
        "    end='2020-12-31', \n",
        "    freq='W-TUE'\n",
        ")\n",
        "\n",
        "print(date_range)"
      ],
      "metadata": {
        "colab": {
          "base_uri": "https://localhost:8080/"
        },
        "id": "lgIWZ5UczDXR",
        "outputId": "6e6b417b-2292-4b60-aa8d-01f1e0599b23"
      },
      "execution_count": null,
      "outputs": [
        {
          "output_type": "stream",
          "name": "stdout",
          "text": [
            "DatetimeIndex(['2020-01-07', '2020-01-14', '2020-01-21', '2020-01-28',\n",
            "               '2020-02-04', '2020-02-11', '2020-02-18', '2020-02-25',\n",
            "               '2020-03-03', '2020-03-10', '2020-03-17', '2020-03-24',\n",
            "               '2020-03-31', '2020-04-07', '2020-04-14', '2020-04-21',\n",
            "               '2020-04-28', '2020-05-05', '2020-05-12', '2020-05-19',\n",
            "               '2020-05-26', '2020-06-02', '2020-06-09', '2020-06-16',\n",
            "               '2020-06-23', '2020-06-30', '2020-07-07', '2020-07-14',\n",
            "               '2020-07-21', '2020-07-28', '2020-08-04', '2020-08-11',\n",
            "               '2020-08-18', '2020-08-25', '2020-09-01', '2020-09-08',\n",
            "               '2020-09-15', '2020-09-22', '2020-09-29', '2020-10-06',\n",
            "               '2020-10-13', '2020-10-20', '2020-10-27', '2020-11-03',\n",
            "               '2020-11-10', '2020-11-17', '2020-11-24', '2020-12-01',\n",
            "               '2020-12-08', '2020-12-15', '2020-12-22', '2020-12-29'],\n",
            "              dtype='datetime64[ns]', freq='W-TUE')\n"
          ]
        }
      ]
    },
    {
      "cell_type": "code",
      "source": [
        "# Section 5: exercise 3\n",
        "\n",
        "import pandas as pd\n",
        "\n",
        "date_range = pd.date_range(start ='2021-01-01', periods=24, freq='H')\n",
        "\n",
        "print(date_range)"
      ],
      "metadata": {
        "colab": {
          "base_uri": "https://localhost:8080/"
        },
        "id": "gwHt8NF95PQ8",
        "outputId": "04c11660-e7f2-42f6-b7e6-19a1011aeb21"
      },
      "execution_count": 24,
      "outputs": [
        {
          "output_type": "stream",
          "name": "stdout",
          "text": [
            "DatetimeIndex(['2021-01-01 00:00:00', '2021-01-01 01:00:00',\n",
            "               '2021-01-01 02:00:00', '2021-01-01 03:00:00',\n",
            "               '2021-01-01 04:00:00', '2021-01-01 05:00:00',\n",
            "               '2021-01-01 06:00:00', '2021-01-01 07:00:00',\n",
            "               '2021-01-01 08:00:00', '2021-01-01 09:00:00',\n",
            "               '2021-01-01 10:00:00', '2021-01-01 11:00:00',\n",
            "               '2021-01-01 12:00:00', '2021-01-01 13:00:00',\n",
            "               '2021-01-01 14:00:00', '2021-01-01 15:00:00',\n",
            "               '2021-01-01 16:00:00', '2021-01-01 17:00:00',\n",
            "               '2021-01-01 18:00:00', '2021-01-01 19:00:00',\n",
            "               '2021-01-01 20:00:00', '2021-01-01 21:00:00',\n",
            "               '2021-01-01 22:00:00', '2021-01-01 23:00:00'],\n",
            "              dtype='datetime64[ns]', freq='H')\n"
          ]
        }
      ]
    },
    {
      "cell_type": "code",
      "source": [
        "# Section 5: exercise 3\n",
        "\n",
        "import pandas as pd\n",
        "import numpy as np\n",
        "\n",
        "date_range = pd.date_range(start='2020-01-01', periods=31)\n",
        "df = pd.DataFrame(data=date_range, columns=['day'])\n",
        "serie = pd.Series(date_range)\n",
        "serie_2 = pd.Series(serie, index = df)\n",
        "\n",
        "#date_range = pd.date_range(start='2020-01-01', periods=D)\n",
        "#serie = pd.Series(date_range)\n",
        "#serie_2 = pd.Series(serie)\n",
        "\n",
        "\n",
        "print(serie)\n",
        "\n",
        "# simple array\n",
        "#stocks = np.array([10.0, 20.0, 30.0, 40.0, 50.0, 60.0, 70.0, 80.0, 90.0])\n",
        "  \n",
        "# providing an index\n",
        "#serie = pd.Series(stocks, index =['101', '102', '103', '104', '105','106', '107', '108', '109'])\n",
        "#print(serie)\n"
      ],
      "metadata": {
        "colab": {
          "base_uri": "https://localhost:8080/"
        },
        "id": "hzjiSI9y7p0w",
        "outputId": "d418c643-fb2e-4df7-f21a-2468e5460576"
      },
      "execution_count": 51,
      "outputs": [
        {
          "output_type": "stream",
          "name": "stdout",
          "text": [
            "0    2020-01-01\n",
            "1    2020-01-02\n",
            "2    2020-01-03\n",
            "3    2020-01-04\n",
            "4    2020-01-05\n",
            "5    2020-01-06\n",
            "6    2020-01-07\n",
            "7    2020-01-08\n",
            "8    2020-01-09\n",
            "9    2020-01-10\n",
            "10   2020-01-11\n",
            "11   2020-01-12\n",
            "12   2020-01-13\n",
            "13   2020-01-14\n",
            "14   2020-01-15\n",
            "15   2020-01-16\n",
            "16   2020-01-17\n",
            "17   2020-01-18\n",
            "18   2020-01-19\n",
            "19   2020-01-20\n",
            "20   2020-01-21\n",
            "21   2020-01-22\n",
            "22   2020-01-23\n",
            "23   2020-01-24\n",
            "24   2020-01-25\n",
            "25   2020-01-26\n",
            "26   2020-01-27\n",
            "27   2020-01-28\n",
            "28   2020-01-29\n",
            "29   2020-01-30\n",
            "30   2020-01-31\n",
            "dtype: datetime64[ns]\n"
          ]
        }
      ]
    },
    {
      "cell_type": "code",
      "source": [
        "import pandas as pd\n",
        "date_range = pd.date_range(start='2021-03-01', periods=31)\n",
        "df = pd.DataFrame(data=date_range, columns=['day'])\n",
        "df['day_of_year'] = df['day'].dt.dayofyear\n",
        "print(df)"
      ],
      "metadata": {
        "colab": {
          "base_uri": "https://localhost:8080/"
        },
        "id": "xbfmaShqF14Y",
        "outputId": "297f2900-f488-412e-f48b-192ac067f9b2"
      },
      "execution_count": 53,
      "outputs": [
        {
          "output_type": "stream",
          "name": "stdout",
          "text": [
            "          day  day_of_year\n",
            "0  2021-03-01           60\n",
            "1  2021-03-02           61\n",
            "2  2021-03-03           62\n",
            "3  2021-03-04           63\n",
            "4  2021-03-05           64\n",
            "5  2021-03-06           65\n",
            "6  2021-03-07           66\n",
            "7  2021-03-08           67\n",
            "8  2021-03-09           68\n",
            "9  2021-03-10           69\n",
            "10 2021-03-11           70\n",
            "11 2021-03-12           71\n",
            "12 2021-03-13           72\n",
            "13 2021-03-14           73\n",
            "14 2021-03-15           74\n",
            "15 2021-03-16           75\n",
            "16 2021-03-17           76\n",
            "17 2021-03-18           77\n",
            "18 2021-03-19           78\n",
            "19 2021-03-20           79\n",
            "20 2021-03-21           80\n",
            "21 2021-03-22           81\n",
            "22 2021-03-23           82\n",
            "23 2021-03-24           83\n",
            "24 2021-03-25           84\n",
            "25 2021-03-26           85\n",
            "26 2021-03-27           86\n",
            "27 2021-03-28           87\n",
            "28 2021-03-29           88\n",
            "29 2021-03-30           89\n",
            "30 2021-03-31           90\n"
          ]
        }
      ]
    },
    {
      "cell_type": "code",
      "source": [
        "# Section 6 \n",
        "\n",
        "import numpy as np\n",
        "import pandas as pd\n",
        "\n",
        "\n",
        "np.random.seed(42)\n",
        "data_dict = {\n",
        "    'normal': np.random.normal(loc=0, scale=1, size=1000),\n",
        "    'uniform': np.random.uniform(low=0, high=1, size=1000),\n",
        "    'binomial': np.random.binomial(n=1, p=0.2, size=1000)\n",
        "}\n",
        "\n",
        "df = pd.DataFrame(data=data_dict, columns=['day']);\n",
        "print(df)\n",
        "\n"
      ],
      "metadata": {
        "colab": {
          "base_uri": "https://localhost:8080/"
        },
        "id": "Dy0ruwLWGyJ8",
        "outputId": "e4a76f04-886a-493e-aa47-544057f6d26b"
      },
      "execution_count": 58,
      "outputs": [
        {
          "output_type": "stream",
          "name": "stdout",
          "text": [
            "Empty DataFrame\n",
            "Columns: [day]\n",
            "Index: []\n"
          ]
        }
      ]
    }
  ]
}