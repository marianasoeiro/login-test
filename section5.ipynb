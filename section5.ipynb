{
  "nbformat": 4,
  "nbformat_minor": 0,
  "metadata": {
    "colab": {
      "name": "section5.ipynb",
      "provenance": [],
      "authorship_tag": "ABX9TyNaWK+BDZ7DjjxjZDQ3SixL",
      "include_colab_link": true
    },
    "kernelspec": {
      "name": "python3",
      "display_name": "Python 3"
    },
    "language_info": {
      "name": "python"
    }
  },
  "cells": [
    {
      "cell_type": "markdown",
      "metadata": {
        "id": "view-in-github",
        "colab_type": "text"
      },
      "source": [
        "<a href=\"https://colab.research.google.com/github/marianasoeiro/login-test/blob/master/section5.ipynb\" target=\"_parent\"><img src=\"https://colab.research.google.com/assets/colab-badge.svg\" alt=\"Open In Colab\"/></a>"
      ]
    },
    {
      "cell_type": "code",
      "execution_count": null,
      "metadata": {
        "colab": {
          "base_uri": "https://localhost:8080/"
        },
        "id": "YNIbtXrHyftb",
        "outputId": "5d5f929c-0e13-46f3-c31d-d5ae3f8cdd2f"
      },
      "outputs": [
        {
          "output_type": "stream",
          "name": "stdout",
          "text": [
            "DatetimeIndex(['2020-01-01', '2020-01-02', '2020-01-03', '2020-01-04',\n",
            "               '2020-01-05', '2020-01-06', '2020-01-07', '2020-01-08',\n",
            "               '2020-01-09', '2020-01-10', '2020-01-11', '2020-01-12',\n",
            "               '2020-01-13', '2020-01-14', '2020-01-15', '2020-01-16',\n",
            "               '2020-01-17', '2020-01-18', '2020-01-19', '2020-01-20',\n",
            "               '2020-01-21', '2020-01-22', '2020-01-23', '2020-01-24',\n",
            "               '2020-01-25', '2020-01-26', '2020-01-27', '2020-01-28',\n",
            "               '2020-01-29', '2020-01-30', '2020-01-31'],\n",
            "              dtype='datetime64[ns]', freq='D')\n"
          ]
        }
      ],
      "source": [
        "# Section 5: exercise 1\n",
        "# DataframeIndex\n",
        "\n",
        "import pandas as pd\n",
        "date_range = pd.date_range(start='2020-01-01', periods=31)\n",
        "print(date_range)"
      ]
    },
    {
      "cell_type": "code",
      "source": [
        "# Section 5: exercise 2\n",
        "\n",
        "import pandas as pd \n",
        "\n",
        "date_range = pd.date_range(\n",
        "    start='2020-01-01', \n",
        "    end='2020-12-31', \n",
        "    freq='W-TUE'\n",
        ")\n",
        "\n",
        "print(date_range)"
      ],
      "metadata": {
        "colab": {
          "base_uri": "https://localhost:8080/"
        },
        "id": "lgIWZ5UczDXR",
        "outputId": "6e6b417b-2292-4b60-aa8d-01f1e0599b23"
      },
      "execution_count": null,
      "outputs": [
        {
          "output_type": "stream",
          "name": "stdout",
          "text": [
            "DatetimeIndex(['2020-01-07', '2020-01-14', '2020-01-21', '2020-01-28',\n",
            "               '2020-02-04', '2020-02-11', '2020-02-18', '2020-02-25',\n",
            "               '2020-03-03', '2020-03-10', '2020-03-17', '2020-03-24',\n",
            "               '2020-03-31', '2020-04-07', '2020-04-14', '2020-04-21',\n",
            "               '2020-04-28', '2020-05-05', '2020-05-12', '2020-05-19',\n",
            "               '2020-05-26', '2020-06-02', '2020-06-09', '2020-06-16',\n",
            "               '2020-06-23', '2020-06-30', '2020-07-07', '2020-07-14',\n",
            "               '2020-07-21', '2020-07-28', '2020-08-04', '2020-08-11',\n",
            "               '2020-08-18', '2020-08-25', '2020-09-01', '2020-09-08',\n",
            "               '2020-09-15', '2020-09-22', '2020-09-29', '2020-10-06',\n",
            "               '2020-10-13', '2020-10-20', '2020-10-27', '2020-11-03',\n",
            "               '2020-11-10', '2020-11-17', '2020-11-24', '2020-12-01',\n",
            "               '2020-12-08', '2020-12-15', '2020-12-22', '2020-12-29'],\n",
            "              dtype='datetime64[ns]', freq='W-TUE')\n"
          ]
        }
      ]
    },
    {
      "cell_type": "code",
      "source": [
        "# Section 5: exercise 3\n",
        "\n",
        "import pandas as pd\n",
        "\n",
        "date_range = pd.date_range(start ='2021-01-01', periods=24, freq='H')\n",
        "\n",
        "print(date_range)"
      ],
      "metadata": {
        "colab": {
          "base_uri": "https://localhost:8080/"
        },
        "id": "gwHt8NF95PQ8",
        "outputId": "04c11660-e7f2-42f6-b7e6-19a1011aeb21"
      },
      "execution_count": null,
      "outputs": [
        {
          "output_type": "stream",
          "name": "stdout",
          "text": [
            "DatetimeIndex(['2021-01-01 00:00:00', '2021-01-01 01:00:00',\n",
            "               '2021-01-01 02:00:00', '2021-01-01 03:00:00',\n",
            "               '2021-01-01 04:00:00', '2021-01-01 05:00:00',\n",
            "               '2021-01-01 06:00:00', '2021-01-01 07:00:00',\n",
            "               '2021-01-01 08:00:00', '2021-01-01 09:00:00',\n",
            "               '2021-01-01 10:00:00', '2021-01-01 11:00:00',\n",
            "               '2021-01-01 12:00:00', '2021-01-01 13:00:00',\n",
            "               '2021-01-01 14:00:00', '2021-01-01 15:00:00',\n",
            "               '2021-01-01 16:00:00', '2021-01-01 17:00:00',\n",
            "               '2021-01-01 18:00:00', '2021-01-01 19:00:00',\n",
            "               '2021-01-01 20:00:00', '2021-01-01 21:00:00',\n",
            "               '2021-01-01 22:00:00', '2021-01-01 23:00:00'],\n",
            "              dtype='datetime64[ns]', freq='H')\n"
          ]
        }
      ]
    },
    {
      "cell_type": "code",
      "source": [
        "# Section 5: exercise 3\n",
        "\n",
        "import pandas as pd\n",
        "import numpy as np\n",
        "\n",
        "date_range = pd.date_range(start='2020-01-01', periods=31)\n",
        "df = pd.DataFrame(data=date_range, columns=['day'])\n",
        "serie = pd.Series(date_range)\n",
        "serie_2 = pd.Series(serie, index = df)\n",
        "\n",
        "#date_range = pd.date_range(start='2020-01-01', periods=D)\n",
        "#serie = pd.Series(date_range)\n",
        "#serie_2 = pd.Series(serie)\n",
        "\n",
        "\n",
        "print(serie)\n",
        "\n",
        "# simple array\n",
        "#stocks = np.array([10.0, 20.0, 30.0, 40.0, 50.0, 60.0, 70.0, 80.0, 90.0])\n",
        "  \n",
        "# providing an index\n",
        "#serie = pd.Series(stocks, index =['101', '102', '103', '104', '105','106', '107', '108', '109'])\n",
        "#print(serie)\n"
      ],
      "metadata": {
        "colab": {
          "base_uri": "https://localhost:8080/"
        },
        "id": "hzjiSI9y7p0w",
        "outputId": "d418c643-fb2e-4df7-f21a-2468e5460576"
      },
      "execution_count": null,
      "outputs": [
        {
          "output_type": "stream",
          "name": "stdout",
          "text": [
            "0    2020-01-01\n",
            "1    2020-01-02\n",
            "2    2020-01-03\n",
            "3    2020-01-04\n",
            "4    2020-01-05\n",
            "5    2020-01-06\n",
            "6    2020-01-07\n",
            "7    2020-01-08\n",
            "8    2020-01-09\n",
            "9    2020-01-10\n",
            "10   2020-01-11\n",
            "11   2020-01-12\n",
            "12   2020-01-13\n",
            "13   2020-01-14\n",
            "14   2020-01-15\n",
            "15   2020-01-16\n",
            "16   2020-01-17\n",
            "17   2020-01-18\n",
            "18   2020-01-19\n",
            "19   2020-01-20\n",
            "20   2020-01-21\n",
            "21   2020-01-22\n",
            "22   2020-01-23\n",
            "23   2020-01-24\n",
            "24   2020-01-25\n",
            "25   2020-01-26\n",
            "26   2020-01-27\n",
            "27   2020-01-28\n",
            "28   2020-01-29\n",
            "29   2020-01-30\n",
            "30   2020-01-31\n",
            "dtype: datetime64[ns]\n"
          ]
        }
      ]
    },
    {
      "cell_type": "code",
      "source": [
        "import pandas as pd\n",
        "date_range = pd.date_range(start='2021-03-01', periods=31)\n",
        "df = pd.DataFrame(data=date_range, columns=['day'])\n",
        "df['day_of_year'] = df['day'].dt.dayofyear\n",
        "print(df)"
      ],
      "metadata": {
        "colab": {
          "base_uri": "https://localhost:8080/"
        },
        "id": "xbfmaShqF14Y",
        "outputId": "297f2900-f488-412e-f48b-192ac067f9b2"
      },
      "execution_count": null,
      "outputs": [
        {
          "output_type": "stream",
          "name": "stdout",
          "text": [
            "          day  day_of_year\n",
            "0  2021-03-01           60\n",
            "1  2021-03-02           61\n",
            "2  2021-03-03           62\n",
            "3  2021-03-04           63\n",
            "4  2021-03-05           64\n",
            "5  2021-03-06           65\n",
            "6  2021-03-07           66\n",
            "7  2021-03-08           67\n",
            "8  2021-03-09           68\n",
            "9  2021-03-10           69\n",
            "10 2021-03-11           70\n",
            "11 2021-03-12           71\n",
            "12 2021-03-13           72\n",
            "13 2021-03-14           73\n",
            "14 2021-03-15           74\n",
            "15 2021-03-16           75\n",
            "16 2021-03-17           76\n",
            "17 2021-03-18           77\n",
            "18 2021-03-19           78\n",
            "19 2021-03-20           79\n",
            "20 2021-03-21           80\n",
            "21 2021-03-22           81\n",
            "22 2021-03-23           82\n",
            "23 2021-03-24           83\n",
            "24 2021-03-25           84\n",
            "25 2021-03-26           85\n",
            "26 2021-03-27           86\n",
            "27 2021-03-28           87\n",
            "28 2021-03-29           88\n",
            "29 2021-03-30           89\n",
            "30 2021-03-31           90\n"
          ]
        }
      ]
    },
    {
      "cell_type": "code",
      "source": [
        "# Section 5 \n",
        "\n",
        "import numpy as np\n",
        "import pandas as pd\n",
        "\n",
        "\n",
        "np.random.seed(42)\n",
        "data_dict = {\n",
        "    'normal': np.random.normal(loc=0, scale=1, size=1000),\n",
        "    'uniform': np.random.uniform(low=0, high=1, size=1000),\n",
        "    'binomial': np.random.binomial(n=1, p=0.2, size=1000)\n",
        "}\n",
        "\n",
        "df = pd.DataFrame(data=data_dict, index=pd.date_range('2020-01-01', periods=1000)\n",
        ")\n",
        "print(df)\n",
        "\n",
        "\n",
        "\n",
        "#df = pd.DataFrame(data=data_dict);\n",
        "#date_range = pd.date_range(start='2021-03-01', periods=31)\n",
        "#df = pd.DataFrame(data=date_range, columns=['day'])\n",
        "#df['day_of_year'] = df['day'].dt.dayofyear\n",
        "#print(df)\n",
        "\n",
        "# simple array\n",
        "#stocks = np.array([10.0, 20.0, 30.0, 40.0, 50.0, 60.0, 70.0, 80.0, 90.0])\n",
        "  \n",
        "# providing an index\n",
        "#serie = pd.Series(stocks, index = pd.date_range(start='2021-03-01', periods=1000))\n",
        "#print(serie)\n",
        "\n",
        "\n",
        "#companies = pd.DataFrame(data=data_dict)\n",
        "#companies = companies.set_index('company')\n",
        "#print(companies)\n"
      ],
      "metadata": {
        "colab": {
          "base_uri": "https://localhost:8080/"
        },
        "id": "Dy0ruwLWGyJ8",
        "outputId": "7c0cfa12-ea91-4e9c-cab0-23f810ea6943"
      },
      "execution_count": 18,
      "outputs": [
        {
          "output_type": "stream",
          "name": "stdout",
          "text": [
            "              normal   uniform  binomial\n",
            "2020-01-01  0.496714  0.167483         0\n",
            "2020-01-02 -0.138264  0.104568         0\n",
            "2020-01-03  0.647689  0.636430         0\n",
            "2020-01-04  1.523030  0.706476         0\n",
            "2020-01-05 -0.234153  0.031586         1\n",
            "...              ...       ...       ...\n",
            "2022-09-22 -0.281100  0.280683         1\n",
            "2022-09-23  1.797687  0.206993         0\n",
            "2022-09-24  0.640843  0.516573         0\n",
            "2022-09-25 -0.571179  0.005506         1\n",
            "2022-09-26  0.572583  0.007664         0\n",
            "\n",
            "[1000 rows x 3 columns]\n"
          ]
        }
      ]
    },
    {
      "cell_type": "code",
      "source": [
        "#Section 5: Exercise 16\n",
        "\n",
        "import numpy as np\n",
        "import pandas as pd\n",
        "\n",
        "\n",
        "np.random.seed(42)\n",
        "data_dict = {\n",
        "    'normal': np.random.normal(loc=0, scale=1, size=1000),\n",
        "    'uniform': np.random.uniform(low=0, high=1, size=1000),\n",
        "    'binomial': np.random.binomial(n=1, p=0.2, size=1000)\n",
        "}\n",
        "\n",
        "df = pd.DataFrame(data=data_dict, index=pd.date_range('2020-01-01', periods=1000))\n",
        "#df.iloc[df. shape[1]]\n",
        "print(df.head(10))\n",
        "print()\n",
        "print(df.tail())\n"
      ],
      "metadata": {
        "colab": {
          "base_uri": "https://localhost:8080/"
        },
        "id": "DKIE5VCqVmIz",
        "outputId": "256516b4-bc1a-482f-8a77-1f26d15090ca"
      },
      "execution_count": 25,
      "outputs": [
        {
          "output_type": "stream",
          "name": "stdout",
          "text": [
            "              normal   uniform  binomial\n",
            "2020-01-01  0.496714  0.167483         0\n",
            "2020-01-02 -0.138264  0.104568         0\n",
            "2020-01-03  0.647689  0.636430         0\n",
            "2020-01-04  1.523030  0.706476         0\n",
            "2020-01-05 -0.234153  0.031586         1\n",
            "2020-01-06 -0.234137  0.936212         0\n",
            "2020-01-07  1.579213  0.051971         0\n",
            "2020-01-08  0.767435  0.541296         0\n",
            "2020-01-09 -0.469474  0.709061         1\n",
            "2020-01-10  0.542560  0.870969         0\n",
            "\n",
            "              normal   uniform  binomial\n",
            "2022-09-22 -0.281100  0.280683         1\n",
            "2022-09-23  1.797687  0.206993         0\n",
            "2022-09-24  0.640843  0.516573         0\n",
            "2022-09-25 -0.571179  0.005506         1\n",
            "2022-09-26  0.572583  0.007664         0\n"
          ]
        }
      ]
    },
    {
      "cell_type": "code",
      "source": [
        "# section 5 : Exercise 17\n",
        "import numpy as np\n",
        "import pandas as pd\n",
        "\n",
        "\n",
        "np.random.seed(42)\n",
        "data_dict = {\n",
        "    'normal': np.random.normal(loc=0, scale=1, size=1000),\n",
        "    'uniform': np.random.uniform(low=0, high=1, size=1000),\n",
        "    'binomial': np.random.binomial(n=1, p=0.2, size=1000)\n",
        "}\n",
        "\n",
        "df = pd.DataFrame(data=data_dict, index=pd.date_range('2020-01-01', periods=1000))\n",
        "print(df)\n",
        "\n"
      ],
      "metadata": {
        "colab": {
          "base_uri": "https://localhost:8080/"
        },
        "id": "cBCBcy96X_Ek",
        "outputId": "f330722c-b452-4bdd-b13b-bd0309bfd8aa"
      },
      "execution_count": 27,
      "outputs": [
        {
          "output_type": "stream",
          "name": "stdout",
          "text": [
            "              normal   uniform  binomial\n",
            "2020-01-01  0.496714  0.167483         0\n",
            "2020-01-02 -0.138264  0.104568         0\n",
            "2020-01-03  0.647689  0.636430         0\n",
            "2020-01-04  1.523030  0.706476         0\n",
            "2020-01-05 -0.234153  0.031586         1\n",
            "...              ...       ...       ...\n",
            "2022-09-22 -0.281100  0.280683         1\n",
            "2022-09-23  1.797687  0.206993         0\n",
            "2022-09-24  0.640843  0.516573         0\n",
            "2022-09-25 -0.571179  0.005506         1\n",
            "2022-09-26  0.572583  0.007664         0\n",
            "\n",
            "[1000 rows x 3 columns]\n"
          ]
        }
      ]
    },
    {
      "cell_type": "code",
      "source": [
        "# Section 6 : Exercise 18\n",
        "\n",
        "import numpy as np\n",
        "import pandas as pd\n",
        "\n",
        "np.random.seed(42)\n",
        "data_dict = {\n",
        "    'normal': np.random.normal(loc=0, scale=1, size=1000),\n",
        "    'uniform': np.random.uniform(low=0, high=1, size=1000),\n",
        "    'binomial': np.random.binomial(n=1, p=0.2, size=1000)\n",
        "}\n",
        "\n",
        "df = pd.DataFrame(data=data_dict, index=pd.date_range('2020-01-01', periods=1000))\n",
        "df2 = df.info()\n",
        "df3 = df.describe(exclude=[object])\n",
        "\n",
        "\n",
        "print(df3)\n",
        "print(df2)"
      ],
      "metadata": {
        "colab": {
          "base_uri": "https://localhost:8080/"
        },
        "id": "rO70Wfr1wYJE",
        "outputId": "859547e6-aba3-418f-fe59-d45cc810855f"
      },
      "execution_count": 37,
      "outputs": [
        {
          "output_type": "stream",
          "name": "stdout",
          "text": [
            "<class 'pandas.core.frame.DataFrame'>\n",
            "DatetimeIndex: 1000 entries, 2020-01-01 to 2022-09-26\n",
            "Freq: D\n",
            "Data columns (total 3 columns):\n",
            " #   Column    Non-Null Count  Dtype  \n",
            "---  ------    --------------  -----  \n",
            " 0   normal    1000 non-null   float64\n",
            " 1   uniform   1000 non-null   float64\n",
            " 2   binomial  1000 non-null   int64  \n",
            "dtypes: float64(2), int64(1)\n",
            "memory usage: 31.2 KB\n",
            "            normal      uniform    binomial\n",
            "count  1000.000000  1000.000000  1000.00000\n",
            "mean      0.019332     0.503649     0.19200\n",
            "std       0.979216     0.288357     0.39407\n",
            "min      -3.241267     0.003218     0.00000\n",
            "25%      -0.647590     0.247199     0.00000\n",
            "50%       0.025301     0.516126     0.00000\n",
            "75%       0.647944     0.746319     0.00000\n",
            "max       3.852731     0.999414     1.00000\n",
            "None\n"
          ]
        }
      ]
    },
    {
      "cell_type": "code",
      "source": [
        "# Section 6 : Exercise 19\n",
        "\n",
        "import numpy as np\n",
        "import pandas as pd\n",
        "\n",
        "\n",
        "np.random.seed(42)\n",
        "data_dict = {\n",
        "    'normal': np.random.normal(loc=0, scale=1, size=1000),\n",
        "    'uniform': np.random.uniform(low=0, high=1, size=1000),\n",
        "    'binomial': np.random.binomial(n=1, p=0.2, size=1000)\n",
        "}\n",
        "\n",
        "df = pd.DataFrame(data=data_dict, index=pd.date_range('2020-01-01', periods=1000))\n",
        "\n",
        "print(df['binomial'].value_counts())"
      ],
      "metadata": {
        "colab": {
          "base_uri": "https://localhost:8080/"
        },
        "id": "wgqS-dzE2HIK",
        "outputId": "edd9cf24-e34d-413b-e428-42b02294e008"
      },
      "execution_count": 43,
      "outputs": [
        {
          "output_type": "stream",
          "name": "stdout",
          "text": [
            "0    808\n",
            "1    192\n",
            "Name: binomial, dtype: int64\n"
          ]
        }
      ]
    },
    {
      "cell_type": "code",
      "source": [
        "# Section 6 : Exercise 20\n",
        "\n",
        "import numpy as np\n",
        "import pandas as pd\n",
        "\n",
        "\n",
        "np.random.seed(42)\n",
        "data_dict = {\n",
        "    'normal': np.random.normal(loc=0, scale=1, size=1000),\n",
        "    'uniform': np.random.uniform(low=0, high=1, size=1000),\n",
        "    'binomial': np.random.binomial(n=1, p=0.2, size=1000)\n",
        "}\n",
        "\n",
        "df = pd.DataFrame(data=data_dict, index=pd.date_range('2020-01-01', periods=1000))\n",
        "#df.to_csv('dataframe50.csv', index=False, compression=compression_opts) \n",
        "\n",
        "df[:50].to_csv('dataframe50.csv', sep=',')\n",
        "\n"
      ],
      "metadata": {
        "id": "tfOi9OWB9Ei4"
      },
      "execution_count": 50,
      "outputs": []
    },
    {
      "cell_type": "code",
      "source": [
        "# Section 6 : Exercise 20\n",
        "\n",
        "import pandas as pd\n",
        "\n",
        "\n",
        "df = pd.read_csv ('dataframe50.csv')\n",
        "print (df)\n",
        "\n",
        "df_new = pd.read_csv('dataframe50.csv', index_col=0)\n",
        "print(df_new)"
      ],
      "metadata": {
        "colab": {
          "base_uri": "https://localhost:8080/"
        },
        "id": "5PFRGw5wCLl5",
        "outputId": "2426f4bd-01f4-4ed8-f8cd-0129d4a74045"
      },
      "execution_count": 53,
      "outputs": [
        {
          "output_type": "stream",
          "name": "stdout",
          "text": [
            "    Unnamed: 0    normal   uniform  binomial\n",
            "0   2020-01-01  0.496714  0.167483         0\n",
            "1   2020-01-02 -0.138264  0.104568         0\n",
            "2   2020-01-03  0.647689  0.636430         0\n",
            "3   2020-01-04  1.523030  0.706476         0\n",
            "4   2020-01-05 -0.234153  0.031586         1\n",
            "5   2020-01-06 -0.234137  0.936212         0\n",
            "6   2020-01-07  1.579213  0.051971         0\n",
            "7   2020-01-08  0.767435  0.541296         0\n",
            "8   2020-01-09 -0.469474  0.709061         1\n",
            "9   2020-01-10  0.542560  0.870969         0\n",
            "10  2020-01-11 -0.463418  0.714087         0\n",
            "11  2020-01-12 -0.465730  0.801728         0\n",
            "12  2020-01-13  0.241962  0.339450         0\n",
            "13  2020-01-14 -1.913280  0.814825         0\n",
            "14  2020-01-15 -1.724918  0.080115         0\n",
            "15  2020-01-16 -0.562288  0.894817         1\n",
            "16  2020-01-17 -1.012831  0.547592         0\n",
            "17  2020-01-18  0.314247  0.817298         0\n",
            "18  2020-01-19 -0.908024  0.452318         1\n",
            "19  2020-01-20 -1.412304  0.643578         0\n",
            "20  2020-01-21  1.465649  0.526403         0\n",
            "21  2020-01-22 -0.225776  0.731590         0\n",
            "22  2020-01-23  0.067528  0.081630         0\n",
            "23  2020-01-24 -1.424748  0.060352         0\n",
            "24  2020-01-25 -0.544383  0.247103         1\n",
            "25  2020-01-26  0.110923  0.159545         0\n",
            "26  2020-01-27 -1.150994  0.871784         0\n",
            "27  2020-01-28  0.375698  0.219214         0\n",
            "28  2020-01-29 -0.600639  0.975865         1\n",
            "29  2020-01-30 -0.291694  0.336896         1\n",
            "30  2020-01-31 -0.601707  0.182118         1\n",
            "31  2020-02-01  1.852278  0.789699         0\n",
            "32  2020-02-02 -0.013497  0.658708         0\n",
            "33  2020-02-03 -1.057711  0.498196         0\n",
            "34  2020-02-04  0.822545  0.555364         0\n",
            "35  2020-02-05 -1.220844  0.719202         0\n",
            "36  2020-02-06  0.208864  0.228455         0\n",
            "37  2020-02-07 -1.959670  0.996334         0\n",
            "38  2020-02-08 -1.328186  0.974793         0\n",
            "39  2020-02-09  0.196861  0.650326         0\n",
            "40  2020-02-10  0.738467  0.199542         0\n",
            "41  2020-02-11  0.171368  0.680228         0\n",
            "42  2020-02-12 -0.115648  0.072198         0\n",
            "43  2020-02-13 -0.301104  0.030653         0\n",
            "44  2020-02-14 -1.478522  0.257683         0\n",
            "45  2020-02-15 -0.719844  0.462623         0\n",
            "46  2020-02-16 -0.460639  0.868273         0\n",
            "47  2020-02-17  1.057122  0.727169         0\n",
            "48  2020-02-18  0.343618  0.742707         1\n",
            "49  2020-02-19 -1.763040  0.425493         0\n",
            "              normal   uniform  binomial\n",
            "2020-01-01  0.496714  0.167483         0\n",
            "2020-01-02 -0.138264  0.104568         0\n",
            "2020-01-03  0.647689  0.636430         0\n",
            "2020-01-04  1.523030  0.706476         0\n",
            "2020-01-05 -0.234153  0.031586         1\n",
            "2020-01-06 -0.234137  0.936212         0\n",
            "2020-01-07  1.579213  0.051971         0\n",
            "2020-01-08  0.767435  0.541296         0\n",
            "2020-01-09 -0.469474  0.709061         1\n",
            "2020-01-10  0.542560  0.870969         0\n",
            "2020-01-11 -0.463418  0.714087         0\n",
            "2020-01-12 -0.465730  0.801728         0\n",
            "2020-01-13  0.241962  0.339450         0\n",
            "2020-01-14 -1.913280  0.814825         0\n",
            "2020-01-15 -1.724918  0.080115         0\n",
            "2020-01-16 -0.562288  0.894817         1\n",
            "2020-01-17 -1.012831  0.547592         0\n",
            "2020-01-18  0.314247  0.817298         0\n",
            "2020-01-19 -0.908024  0.452318         1\n",
            "2020-01-20 -1.412304  0.643578         0\n",
            "2020-01-21  1.465649  0.526403         0\n",
            "2020-01-22 -0.225776  0.731590         0\n",
            "2020-01-23  0.067528  0.081630         0\n",
            "2020-01-24 -1.424748  0.060352         0\n",
            "2020-01-25 -0.544383  0.247103         1\n",
            "2020-01-26  0.110923  0.159545         0\n",
            "2020-01-27 -1.150994  0.871784         0\n",
            "2020-01-28  0.375698  0.219214         0\n",
            "2020-01-29 -0.600639  0.975865         1\n",
            "2020-01-30 -0.291694  0.336896         1\n",
            "2020-01-31 -0.601707  0.182118         1\n",
            "2020-02-01  1.852278  0.789699         0\n",
            "2020-02-02 -0.013497  0.658708         0\n",
            "2020-02-03 -1.057711  0.498196         0\n",
            "2020-02-04  0.822545  0.555364         0\n",
            "2020-02-05 -1.220844  0.719202         0\n",
            "2020-02-06  0.208864  0.228455         0\n",
            "2020-02-07 -1.959670  0.996334         0\n",
            "2020-02-08 -1.328186  0.974793         0\n",
            "2020-02-09  0.196861  0.650326         0\n",
            "2020-02-10  0.738467  0.199542         0\n",
            "2020-02-11  0.171368  0.680228         0\n",
            "2020-02-12 -0.115648  0.072198         0\n",
            "2020-02-13 -0.301104  0.030653         0\n",
            "2020-02-14 -1.478522  0.257683         0\n",
            "2020-02-15 -0.719844  0.462623         0\n",
            "2020-02-16 -0.460639  0.868273         0\n",
            "2020-02-17  1.057122  0.727169         0\n",
            "2020-02-18  0.343618  0.742707         1\n",
            "2020-02-19 -1.763040  0.425493         0\n"
          ]
        }
      ]
    }
  ]
}