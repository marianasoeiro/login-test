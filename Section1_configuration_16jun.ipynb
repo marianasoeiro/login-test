{
  "nbformat": 4,
  "nbformat_minor": 0,
  "metadata": {
    "colab": {
      "name": "Intro-Python-Exercises.ipynb",
      "provenance": [],
      "authorship_tag": "ABX9TyM7AsdTSaMUERly+xYm3Ol/",
      "include_colab_link": true
    },
    "kernelspec": {
      "name": "python3",
      "display_name": "Python 3"
    },
    "language_info": {
      "name": "python"
    }
  },
  "cells": [
    {
      "cell_type": "markdown",
      "metadata": {
        "id": "view-in-github",
        "colab_type": "text"
      },
      "source": [
        "<a href=\"https://colab.research.google.com/github/marianasoeiro/login-test/blob/master/Section1_configuration_16jun.ipynb\" target=\"_parent\"><img src=\"https://colab.research.google.com/assets/colab-badge.svg\" alt=\"Open In Colab\"/></a>"
      ]
    },
    {
      "cell_type": "code",
      "execution_count": 5,
      "metadata": {
        "id": "fKrZPKdOKvvs",
        "outputId": "cf14b92c-e56f-4bf4-d09d-e08d22106532",
        "colab": {
          "base_uri": "https://localhost:8080/"
        }
      },
      "outputs": [
        {
          "output_type": "stream",
          "name": "stdout",
          "text": [
            "new code\n"
          ]
        }
      ],
      "source": [
        "print('new code')\n"
      ]
    },
    {
      "cell_type": "code",
      "source": [
        "tax = 0.10\n",
        "rev = 20000\n",
        "\n"
      ],
      "metadata": {
        "id": "KQYdeIpobfhX"
      },
      "execution_count": 6,
      "outputs": []
    },
    {
      "cell_type": "code",
      "source": [
        "saleprice = tax * rev\n",
        "saleprice"
      ],
      "metadata": {
        "id": "r61Ky7UicC1F",
        "outputId": "583193fd-744f-4269-957e-e7e1bd5b08cd",
        "colab": {
          "base_uri": "https://localhost:8080/"
        }
      },
      "execution_count": 10,
      "outputs": [
        {
          "output_type": "execute_result",
          "data": {
            "text/plain": [
              "2000.0"
            ]
          },
          "metadata": {},
          "execution_count": 10
        }
      ]
    },
    {
      "cell_type": "markdown",
      "source": [
        "## Numpy version\n"
      ],
      "metadata": {
        "id": "6RTW_uWNdgR9"
      }
    },
    {
      "cell_type": "code",
      "source": [
        "import numpy as np\n",
        "np.__version__"
      ],
      "metadata": {
        "id": "A8o0ngJjcGlG",
        "outputId": "53bdc1d2-a499-4686-ae70-f59c94331f16",
        "colab": {
          "base_uri": "https://localhost:8080/",
          "height": 37
        }
      },
      "execution_count": 13,
      "outputs": [
        {
          "output_type": "execute_result",
          "data": {
            "text/plain": [
              "'1.21.6'"
            ],
            "application/vnd.google.colaboratory.intrinsic+json": {
              "type": "string"
            }
          },
          "metadata": {},
          "execution_count": 13
        }
      ]
    },
    {
      "cell_type": "markdown",
      "source": [
        "## Show information about rand\n",
        "\n"
      ],
      "metadata": {
        "id": "faWS9s4AdXEV"
      }
    },
    {
      "cell_type": "code",
      "source": [
        "np.random.rand?\n"
      ],
      "metadata": {
        "id": "gGXyX42idOe6"
      },
      "execution_count": 14,
      "outputs": []
    },
    {
      "cell_type": "markdown",
      "source": [
        "## Import \n"
      ],
      "metadata": {
        "id": "oiRLtRUNdufk"
      }
    },
    {
      "cell_type": "code",
      "source": [
        "import imageai"
      ],
      "metadata": {
        "id": "QAYumZKJdx9O",
        "outputId": "d62e0d8d-24d2-42e1-c2cb-b7559ec7736c",
        "colab": {
          "base_uri": "https://localhost:8080/",
          "height": 300
        }
      },
      "execution_count": 15,
      "outputs": [
        {
          "output_type": "error",
          "ename": "ModuleNotFoundError",
          "evalue": "ignored",
          "traceback": [
            "\u001b[0;31m---------------------------------------------------------------------------\u001b[0m",
            "\u001b[0;31mModuleNotFoundError\u001b[0m                       Traceback (most recent call last)",
            "\u001b[0;32m<ipython-input-15-2cf5b4bddf56>\u001b[0m in \u001b[0;36m<module>\u001b[0;34m()\u001b[0m\n\u001b[0;32m----> 1\u001b[0;31m \u001b[0;32mimport\u001b[0m \u001b[0mimageai\u001b[0m\u001b[0;34m\u001b[0m\u001b[0;34m\u001b[0m\u001b[0m\n\u001b[0m",
            "\u001b[0;31mModuleNotFoundError\u001b[0m: No module named 'imageai'",
            "",
            "\u001b[0;31m---------------------------------------------------------------------------\u001b[0;32m\nNOTE: If your import is failing due to a missing package, you can\nmanually install dependencies using either !pip or !apt.\n\nTo view examples of installing some common dependencies, click the\n\"Open Examples\" button below.\n\u001b[0;31m---------------------------------------------------------------------------\u001b[0m\n"
          ],
          "errorDetails": {
            "actions": [
              {
                "action": "open_url",
                "actionText": "Open Examples",
                "url": "/notebooks/snippets/importing_libraries.ipynb"
              }
            ]
          }
        }
      ]
    },
    {
      "cell_type": "code",
      "source": [
        "!pip install imageai \n"
      ],
      "metadata": {
        "id": "vyJxSlpcd4WD",
        "outputId": "a95bd55a-ca1c-4b1d-e4b2-962cd6ac01b1",
        "colab": {
          "base_uri": "https://localhost:8080/"
        }
      },
      "execution_count": 2,
      "outputs": [
        {
          "output_type": "stream",
          "name": "stdout",
          "text": [
            "Looking in indexes: https://pypi.org/simple, https://us-python.pkg.dev/colab-wheels/public/simple/\n",
            "Requirement already satisfied: imageai in /usr/local/lib/python3.7/dist-packages (2.1.6)\n",
            "Requirement already satisfied: numpy==1.19.3 in /usr/local/lib/python3.7/dist-packages (from imageai) (1.19.3)\n",
            "Requirement already satisfied: opencv-python in /usr/local/lib/python3.7/dist-packages (from imageai) (4.1.2.30)\n",
            "Requirement already satisfied: keras-resnet==0.2.0 in /usr/local/lib/python3.7/dist-packages (from imageai) (0.2.0)\n",
            "Requirement already satisfied: matplotlib==3.3.2 in /usr/local/lib/python3.7/dist-packages (from imageai) (3.3.2)\n",
            "Requirement already satisfied: scipy==1.4.1 in /usr/local/lib/python3.7/dist-packages (from imageai) (1.4.1)\n",
            "Requirement already satisfied: keras==2.4.3 in /usr/local/lib/python3.7/dist-packages (from imageai) (2.4.3)\n",
            "Requirement already satisfied: h5py==2.10.0 in /usr/local/lib/python3.7/dist-packages (from imageai) (2.10.0)\n",
            "Requirement already satisfied: pillow==7.0.0 in /usr/local/lib/python3.7/dist-packages (from imageai) (7.0.0)\n",
            "Requirement already satisfied: six in /usr/local/lib/python3.7/dist-packages (from h5py==2.10.0->imageai) (1.15.0)\n",
            "Requirement already satisfied: pyyaml in /usr/local/lib/python3.7/dist-packages (from keras==2.4.3->imageai) (3.13)\n",
            "Requirement already satisfied: certifi>=2020.06.20 in /usr/local/lib/python3.7/dist-packages (from matplotlib==3.3.2->imageai) (2022.5.18.1)\n",
            "Requirement already satisfied: cycler>=0.10 in /usr/local/lib/python3.7/dist-packages (from matplotlib==3.3.2->imageai) (0.11.0)\n",
            "Requirement already satisfied: python-dateutil>=2.1 in /usr/local/lib/python3.7/dist-packages (from matplotlib==3.3.2->imageai) (2.8.2)\n",
            "Requirement already satisfied: kiwisolver>=1.0.1 in /usr/local/lib/python3.7/dist-packages (from matplotlib==3.3.2->imageai) (1.4.2)\n",
            "Requirement already satisfied: pyparsing!=2.0.4,!=2.1.2,!=2.1.6,>=2.0.3 in /usr/local/lib/python3.7/dist-packages (from matplotlib==3.3.2->imageai) (3.0.9)\n",
            "Requirement already satisfied: typing-extensions in /usr/local/lib/python3.7/dist-packages (from kiwisolver>=1.0.1->matplotlib==3.3.2->imageai) (4.2.0)\n"
          ]
        }
      ]
    },
    {
      "cell_type": "code",
      "source": [
        "import imageai\n"
      ],
      "metadata": {
        "id": "bdEyxsAXeXuI"
      },
      "execution_count": 3,
      "outputs": []
    },
    {
      "cell_type": "markdown",
      "source": [
        "## Markdown\n"
      ],
      "metadata": {
        "id": "rzMNzwUdenIT"
      }
    },
    {
      "cell_type": "markdown",
      "source": [
        "Examples of *markdown italico*\n",
        "\n",
        "Examples of **markdown negrito**\n",
        "\n",
        "Examples of __markdown negrito__ \n",
        "\n",
        "Examples of `markdown marca texto (mac suave)`\n",
        "\n",
        ">> python\n",
        ">>> Code\n",
        "\n",
        "An ordered list:\n",
        "\n",
        "1. one \n",
        "2. two\n",
        "3. three\n",
        "\n",
        "An unorder list:\n",
        "\n",
        "* one \n",
        "* four \n",
        "* seven \n",
        "\n",
        "\n",
        "\n",
        "\n",
        "\n",
        "\n"
      ],
      "metadata": {
        "id": "_fK-kv42e2uw"
      }
    },
    {
      "cell_type": "markdown",
      "source": [
        "##Google link\n",
        "\n",
        "[Google](https://www.google.com/?client=safari)\n",
        "\n",
        "![Python](https://s1.static.brasilescola.uol.com.br/be/2021/10/araras.jpg)"
      ],
      "metadata": {
        "id": "MYr0z08_gug5"
      }
    },
    {
      "cell_type": "markdown",
      "source": [
        "## Escrevendo equações (igual latex)\n",
        "\n",
        "$y = x^2$\n",
        "\n",
        "\n",
        "\n",
        "$A = \\begin{pmatrix}\n",
        "a_{1,1} & a_{1,2} \\\\\n",
        "a_{2,1} & a_{2,2}\n",
        "\\end{pmatrix}\n",
        "$\n",
        "\n",
        "Col1  | Col2  | Col3  \n",
        "---  | ---  | ---  | \n",
        "val1  | val2  | val3 \n",
        "\n"
      ],
      "metadata": {
        "id": "d7sCcd8GhkIJ"
      }
    }
  ]
}